{
 "cells": [
  {
   "attachments": {},
   "cell_type": "markdown",
   "id": "edb504c1",
   "metadata": {},
   "source": [
    "# Fetch ERA5 data and make timeseries for stations"
   ]
  },
  {
   "cell_type": "code",
   "execution_count": 1,
   "id": "5a20c4ae",
   "metadata": {},
   "outputs": [],
   "source": [
    "import NORA3_ERA5\n",
    "import datetime\n",
    "import matplotlib.pyplot as plt\n",
    "import netCDF4 as nc4\n",
    "import xarray as xr\n",
    "import numpy as np"
   ]
  },
  {
   "cell_type": "code",
   "execution_count": 9,
   "id": "9e60f612",
   "metadata": {},
   "outputs": [
    {
     "name": "stdout",
     "output_type": "stream",
     "text": [
      "['top_net_solar_radiation', 'surface_net_solar_radiation', 'surface_solar_radiation_downwards', '2m_temperature', 'total_cloud_cover', 'high_cloud_cover', 'medium_cloud_cover', 'low_cloud_cover', 'snowfall', 'total_precipitation', 'snow_albedo', 'forecast_albedo', 'leaf_area_index_low_vegetation', 'leaf_area_index_high_vegetation', 'total_column_water_vapour']\n",
      "['tsr', 'ssr', 'ssrd', 't2m', 'tcc', 'hcc', 'mcc', 'lcc', 'sf', 'tp', 'asn', 'fal', 'lai_lv', 'lai_hv', 'tcwv']\n"
     ]
    }
   ],
   "source": [
    "params = [\"top_net_solar_radiation\",\n",
    "    \"surface_net_solar_radiation\",\n",
    "    \"surface_solar_radiation_downwards\",\n",
    "    \"2m_temperature\",\n",
    "    \"total_cloud_cover\",\n",
    "    \"high_cloud_cover\",\n",
    "    \"medium_cloud_cover\",\n",
    "    \"low_cloud_cover\",\n",
    "    \"snowfall\",\n",
    "    \"total_precipitation\",\n",
    "    \"snow_albedo\",\n",
    "    \"forecast_albedo\",\n",
    "    \"leaf_area_index_low_vegetation\",\n",
    "    \"leaf_area_index_high_vegetation\",\n",
    "    \"total_column_water_vapour\"]\n",
    "\n",
    "print(params)\n",
    "\n",
    "nc_params = [\"tsr\",\n",
    "    \"ssr\",\n",
    "    \"ssrd\",\n",
    "    \"t2m\",\n",
    "    \"tcc\",\n",
    "    \"hcc\",\n",
    "    \"mcc\",\n",
    "    \"lcc\",\n",
    "    \"sf\",\n",
    "    \"tp\",\n",
    "    \"asn\",\n",
    "    \"fal\",\n",
    "    \"lai_lv\",\n",
    "    \"lai_hv\",\n",
    "    \"tcwv\"]\n",
    "\n",
    "print(nc_params)"
   ]
  },
  {
   "cell_type": "code",
   "execution_count": 2,
   "id": "2a5c32d5",
   "metadata": {},
   "outputs": [
    {
     "name": "stderr",
     "output_type": "stream",
     "text": [
      "/modules/rhel8/conda/install/envs/production-10-2022/lib/python3.9/site-packages/urllib3/connectionpool.py:1045: InsecureRequestWarning: Unverified HTTPS request is being made to host 'cds.climate.copernicus.eu'. Adding certificate verification is strongly advised. See: https://urllib3.readthedocs.io/en/1.26.x/advanced-usage.html#ssl-warnings\n",
      "  warnings.warn(\n",
      "2023-01-19 09:49:40,148 INFO Welcome to the CDS\n",
      "2023-01-19 09:49:40,149 INFO Sending request to https://cds.climate.copernicus.eu/api/v2/resources/reanalysis-era5-single-levels\n",
      "/modules/rhel8/conda/install/envs/production-10-2022/lib/python3.9/site-packages/urllib3/connectionpool.py:1045: InsecureRequestWarning: Unverified HTTPS request is being made to host 'cds.climate.copernicus.eu'. Adding certificate verification is strongly advised. See: https://urllib3.readthedocs.io/en/1.26.x/advanced-usage.html#ssl-warnings\n",
      "  warnings.warn(\n",
      "2023-01-19 09:49:40,348 INFO Request is queued\n",
      "/modules/rhel8/conda/install/envs/production-10-2022/lib/python3.9/site-packages/urllib3/connectionpool.py:1045: InsecureRequestWarning: Unverified HTTPS request is being made to host 'cds.climate.copernicus.eu'. Adding certificate verification is strongly advised. See: https://urllib3.readthedocs.io/en/1.26.x/advanced-usage.html#ssl-warnings\n",
      "  warnings.warn(\n",
      "2023-01-19 09:49:41,406 INFO Request is running\n",
      "/modules/rhel8/conda/install/envs/production-10-2022/lib/python3.9/site-packages/urllib3/connectionpool.py:1045: InsecureRequestWarning: Unverified HTTPS request is being made to host 'cds.climate.copernicus.eu'. Adding certificate verification is strongly advised. See: https://urllib3.readthedocs.io/en/1.26.x/advanced-usage.html#ssl-warnings\n",
      "  warnings.warn(\n",
      "/modules/rhel8/conda/install/envs/production-10-2022/lib/python3.9/site-packages/urllib3/connectionpool.py:1045: InsecureRequestWarning: Unverified HTTPS request is being made to host 'cds.climate.copernicus.eu'. Adding certificate verification is strongly advised. See: https://urllib3.readthedocs.io/en/1.26.x/advanced-usage.html#ssl-warnings\n",
      "  warnings.warn(\n",
      "/modules/rhel8/conda/install/envs/production-10-2022/lib/python3.9/site-packages/urllib3/connectionpool.py:1045: InsecureRequestWarning: Unverified HTTPS request is being made to host 'cds.climate.copernicus.eu'. Adding certificate verification is strongly advised. See: https://urllib3.readthedocs.io/en/1.26.x/advanced-usage.html#ssl-warnings\n",
      "  warnings.warn(\n",
      "/modules/rhel8/conda/install/envs/production-10-2022/lib/python3.9/site-packages/urllib3/connectionpool.py:1045: InsecureRequestWarning: Unverified HTTPS request is being made to host 'cds.climate.copernicus.eu'. Adding certificate verification is strongly advised. See: https://urllib3.readthedocs.io/en/1.26.x/advanced-usage.html#ssl-warnings\n",
      "  warnings.warn(\n",
      "/modules/rhel8/conda/install/envs/production-10-2022/lib/python3.9/site-packages/urllib3/connectionpool.py:1045: InsecureRequestWarning: Unverified HTTPS request is being made to host 'cds.climate.copernicus.eu'. Adding certificate verification is strongly advised. See: https://urllib3.readthedocs.io/en/1.26.x/advanced-usage.html#ssl-warnings\n",
      "  warnings.warn(\n",
      "/modules/rhel8/conda/install/envs/production-10-2022/lib/python3.9/site-packages/urllib3/connectionpool.py:1045: InsecureRequestWarning: Unverified HTTPS request is being made to host 'cds.climate.copernicus.eu'. Adding certificate verification is strongly advised. See: https://urllib3.readthedocs.io/en/1.26.x/advanced-usage.html#ssl-warnings\n",
      "  warnings.warn(\n",
      "/modules/rhel8/conda/install/envs/production-10-2022/lib/python3.9/site-packages/urllib3/connectionpool.py:1045: InsecureRequestWarning: Unverified HTTPS request is being made to host 'cds.climate.copernicus.eu'. Adding certificate verification is strongly advised. See: https://urllib3.readthedocs.io/en/1.26.x/advanced-usage.html#ssl-warnings\n",
      "  warnings.warn(\n",
      "/modules/rhel8/conda/install/envs/production-10-2022/lib/python3.9/site-packages/urllib3/connectionpool.py:1045: InsecureRequestWarning: Unverified HTTPS request is being made to host 'cds.climate.copernicus.eu'. Adding certificate verification is strongly advised. See: https://urllib3.readthedocs.io/en/1.26.x/advanced-usage.html#ssl-warnings\n",
      "  warnings.warn(\n",
      "/modules/rhel8/conda/install/envs/production-10-2022/lib/python3.9/site-packages/urllib3/connectionpool.py:1045: InsecureRequestWarning: Unverified HTTPS request is being made to host 'cds.climate.copernicus.eu'. Adding certificate verification is strongly advised. See: https://urllib3.readthedocs.io/en/1.26.x/advanced-usage.html#ssl-warnings\n",
      "  warnings.warn(\n",
      "/modules/rhel8/conda/install/envs/production-10-2022/lib/python3.9/site-packages/urllib3/connectionpool.py:1045: InsecureRequestWarning: Unverified HTTPS request is being made to host 'cds.climate.copernicus.eu'. Adding certificate verification is strongly advised. See: https://urllib3.readthedocs.io/en/1.26.x/advanced-usage.html#ssl-warnings\n",
      "  warnings.warn(\n",
      "/modules/rhel8/conda/install/envs/production-10-2022/lib/python3.9/site-packages/urllib3/connectionpool.py:1045: InsecureRequestWarning: Unverified HTTPS request is being made to host 'cds.climate.copernicus.eu'. Adding certificate verification is strongly advised. See: https://urllib3.readthedocs.io/en/1.26.x/advanced-usage.html#ssl-warnings\n",
      "  warnings.warn(\n",
      "/modules/rhel8/conda/install/envs/production-10-2022/lib/python3.9/site-packages/urllib3/connectionpool.py:1045: InsecureRequestWarning: Unverified HTTPS request is being made to host 'cds.climate.copernicus.eu'. Adding certificate verification is strongly advised. See: https://urllib3.readthedocs.io/en/1.26.x/advanced-usage.html#ssl-warnings\n",
      "  warnings.warn(\n",
      "/modules/rhel8/conda/install/envs/production-10-2022/lib/python3.9/site-packages/urllib3/connectionpool.py:1045: InsecureRequestWarning: Unverified HTTPS request is being made to host 'cds.climate.copernicus.eu'. Adding certificate verification is strongly advised. See: https://urllib3.readthedocs.io/en/1.26.x/advanced-usage.html#ssl-warnings\n",
      "  warnings.warn(\n",
      "/modules/rhel8/conda/install/envs/production-10-2022/lib/python3.9/site-packages/urllib3/connectionpool.py:1045: InsecureRequestWarning: Unverified HTTPS request is being made to host 'cds.climate.copernicus.eu'. Adding certificate verification is strongly advised. See: https://urllib3.readthedocs.io/en/1.26.x/advanced-usage.html#ssl-warnings\n",
      "  warnings.warn(\n",
      "/modules/rhel8/conda/install/envs/production-10-2022/lib/python3.9/site-packages/urllib3/connectionpool.py:1045: InsecureRequestWarning: Unverified HTTPS request is being made to host 'cds.climate.copernicus.eu'. Adding certificate verification is strongly advised. See: https://urllib3.readthedocs.io/en/1.26.x/advanced-usage.html#ssl-warnings\n",
      "  warnings.warn(\n",
      "/modules/rhel8/conda/install/envs/production-10-2022/lib/python3.9/site-packages/urllib3/connectionpool.py:1045: InsecureRequestWarning: Unverified HTTPS request is being made to host 'cds.climate.copernicus.eu'. Adding certificate verification is strongly advised. See: https://urllib3.readthedocs.io/en/1.26.x/advanced-usage.html#ssl-warnings\n",
      "  warnings.warn(\n",
      "/modules/rhel8/conda/install/envs/production-10-2022/lib/python3.9/site-packages/urllib3/connectionpool.py:1045: InsecureRequestWarning: Unverified HTTPS request is being made to host 'cds.climate.copernicus.eu'. Adding certificate verification is strongly advised. See: https://urllib3.readthedocs.io/en/1.26.x/advanced-usage.html#ssl-warnings\n",
      "  warnings.warn(\n",
      "/modules/rhel8/conda/install/envs/production-10-2022/lib/python3.9/site-packages/urllib3/connectionpool.py:1045: InsecureRequestWarning: Unverified HTTPS request is being made to host 'cds.climate.copernicus.eu'. Adding certificate verification is strongly advised. See: https://urllib3.readthedocs.io/en/1.26.x/advanced-usage.html#ssl-warnings\n",
      "  warnings.warn(\n",
      "/modules/rhel8/conda/install/envs/production-10-2022/lib/python3.9/site-packages/urllib3/connectionpool.py:1045: InsecureRequestWarning: Unverified HTTPS request is being made to host 'cds.climate.copernicus.eu'. Adding certificate verification is strongly advised. See: https://urllib3.readthedocs.io/en/1.26.x/advanced-usage.html#ssl-warnings\n",
      "  warnings.warn(\n",
      "/modules/rhel8/conda/install/envs/production-10-2022/lib/python3.9/site-packages/urllib3/connectionpool.py:1045: InsecureRequestWarning: Unverified HTTPS request is being made to host 'cds.climate.copernicus.eu'. Adding certificate verification is strongly advised. See: https://urllib3.readthedocs.io/en/1.26.x/advanced-usage.html#ssl-warnings\n",
      "  warnings.warn(\n",
      "/modules/rhel8/conda/install/envs/production-10-2022/lib/python3.9/site-packages/urllib3/connectionpool.py:1045: InsecureRequestWarning: Unverified HTTPS request is being made to host 'cds.climate.copernicus.eu'. Adding certificate verification is strongly advised. See: https://urllib3.readthedocs.io/en/1.26.x/advanced-usage.html#ssl-warnings\n",
      "  warnings.warn(\n",
      "/modules/rhel8/conda/install/envs/production-10-2022/lib/python3.9/site-packages/urllib3/connectionpool.py:1045: InsecureRequestWarning: Unverified HTTPS request is being made to host 'cds.climate.copernicus.eu'. Adding certificate verification is strongly advised. See: https://urllib3.readthedocs.io/en/1.26.x/advanced-usage.html#ssl-warnings\n",
      "  warnings.warn(\n",
      "/modules/rhel8/conda/install/envs/production-10-2022/lib/python3.9/site-packages/urllib3/connectionpool.py:1045: InsecureRequestWarning: Unverified HTTPS request is being made to host 'cds.climate.copernicus.eu'. Adding certificate verification is strongly advised. See: https://urllib3.readthedocs.io/en/1.26.x/advanced-usage.html#ssl-warnings\n",
      "  warnings.warn(\n",
      "/modules/rhel8/conda/install/envs/production-10-2022/lib/python3.9/site-packages/urllib3/connectionpool.py:1045: InsecureRequestWarning: Unverified HTTPS request is being made to host 'cds.climate.copernicus.eu'. Adding certificate verification is strongly advised. See: https://urllib3.readthedocs.io/en/1.26.x/advanced-usage.html#ssl-warnings\n",
      "  warnings.warn(\n",
      "/modules/rhel8/conda/install/envs/production-10-2022/lib/python3.9/site-packages/urllib3/connectionpool.py:1045: InsecureRequestWarning: Unverified HTTPS request is being made to host 'cds.climate.copernicus.eu'. Adding certificate verification is strongly advised. See: https://urllib3.readthedocs.io/en/1.26.x/advanced-usage.html#ssl-warnings\n",
      "  warnings.warn(\n",
      "/modules/rhel8/conda/install/envs/production-10-2022/lib/python3.9/site-packages/urllib3/connectionpool.py:1045: InsecureRequestWarning: Unverified HTTPS request is being made to host 'cds.climate.copernicus.eu'. Adding certificate verification is strongly advised. See: https://urllib3.readthedocs.io/en/1.26.x/advanced-usage.html#ssl-warnings\n",
      "  warnings.warn(\n",
      "/modules/rhel8/conda/install/envs/production-10-2022/lib/python3.9/site-packages/urllib3/connectionpool.py:1045: InsecureRequestWarning: Unverified HTTPS request is being made to host 'cds.climate.copernicus.eu'. Adding certificate verification is strongly advised. See: https://urllib3.readthedocs.io/en/1.26.x/advanced-usage.html#ssl-warnings\n",
      "  warnings.warn(\n",
      "/modules/rhel8/conda/install/envs/production-10-2022/lib/python3.9/site-packages/urllib3/connectionpool.py:1045: InsecureRequestWarning: Unverified HTTPS request is being made to host 'cds.climate.copernicus.eu'. Adding certificate verification is strongly advised. See: https://urllib3.readthedocs.io/en/1.26.x/advanced-usage.html#ssl-warnings\n",
      "  warnings.warn(\n",
      "/modules/rhel8/conda/install/envs/production-10-2022/lib/python3.9/site-packages/urllib3/connectionpool.py:1045: InsecureRequestWarning: Unverified HTTPS request is being made to host 'cds.climate.copernicus.eu'. Adding certificate verification is strongly advised. See: https://urllib3.readthedocs.io/en/1.26.x/advanced-usage.html#ssl-warnings\n",
      "  warnings.warn(\n",
      "/modules/rhel8/conda/install/envs/production-10-2022/lib/python3.9/site-packages/urllib3/connectionpool.py:1045: InsecureRequestWarning: Unverified HTTPS request is being made to host 'cds.climate.copernicus.eu'. Adding certificate verification is strongly advised. See: https://urllib3.readthedocs.io/en/1.26.x/advanced-usage.html#ssl-warnings\n",
      "  warnings.warn(\n",
      "/modules/rhel8/conda/install/envs/production-10-2022/lib/python3.9/site-packages/urllib3/connectionpool.py:1045: InsecureRequestWarning: Unverified HTTPS request is being made to host 'cds.climate.copernicus.eu'. Adding certificate verification is strongly advised. See: https://urllib3.readthedocs.io/en/1.26.x/advanced-usage.html#ssl-warnings\n",
      "  warnings.warn(\n",
      "/modules/rhel8/conda/install/envs/production-10-2022/lib/python3.9/site-packages/urllib3/connectionpool.py:1045: InsecureRequestWarning: Unverified HTTPS request is being made to host 'cds.climate.copernicus.eu'. Adding certificate verification is strongly advised. See: https://urllib3.readthedocs.io/en/1.26.x/advanced-usage.html#ssl-warnings\n",
      "  warnings.warn(\n",
      "/modules/rhel8/conda/install/envs/production-10-2022/lib/python3.9/site-packages/urllib3/connectionpool.py:1045: InsecureRequestWarning: Unverified HTTPS request is being made to host 'cds.climate.copernicus.eu'. Adding certificate verification is strongly advised. See: https://urllib3.readthedocs.io/en/1.26.x/advanced-usage.html#ssl-warnings\n",
      "  warnings.warn(\n",
      "/modules/rhel8/conda/install/envs/production-10-2022/lib/python3.9/site-packages/urllib3/connectionpool.py:1045: InsecureRequestWarning: Unverified HTTPS request is being made to host 'cds.climate.copernicus.eu'. Adding certificate verification is strongly advised. See: https://urllib3.readthedocs.io/en/1.26.x/advanced-usage.html#ssl-warnings\n",
      "  warnings.warn(\n",
      "/modules/rhel8/conda/install/envs/production-10-2022/lib/python3.9/site-packages/urllib3/connectionpool.py:1045: InsecureRequestWarning: Unverified HTTPS request is being made to host 'cds.climate.copernicus.eu'. Adding certificate verification is strongly advised. See: https://urllib3.readthedocs.io/en/1.26.x/advanced-usage.html#ssl-warnings\n",
      "  warnings.warn(\n",
      "/modules/rhel8/conda/install/envs/production-10-2022/lib/python3.9/site-packages/urllib3/connectionpool.py:1045: InsecureRequestWarning: Unverified HTTPS request is being made to host 'cds.climate.copernicus.eu'. Adding certificate verification is strongly advised. See: https://urllib3.readthedocs.io/en/1.26.x/advanced-usage.html#ssl-warnings\n",
      "  warnings.warn(\n",
      "2023-01-19 10:44:06,425 INFO Request is completed\n",
      "2023-01-19 10:44:06,425 INFO Downloading https://download-0001-clone.copernicus-climate.eu/cache-compute-0001/cache/data1/adaptor.mars.internal-1674124180.7630348-5364-5-f9701298-442f-44b0-affa-727fff8b3961.nc to leaf_area_index_high_vegetation.nc (981.8M)\n",
      "/modules/rhel8/conda/install/envs/production-10-2022/lib/python3.9/site-packages/urllib3/connectionpool.py:1045: InsecureRequestWarning: Unverified HTTPS request is being made to host 'download-0001-clone.copernicus-climate.eu'. Adding certificate verification is strongly advised. See: https://urllib3.readthedocs.io/en/1.26.x/advanced-usage.html#ssl-warnings\n",
      "  warnings.warn(\n",
      "2023-01-19 10:44:21,412 INFO Download rate 65.5M/s \n"
     ]
    },
    {
     "name": "stdout",
     "output_type": "stream",
     "text": [
      "CPU times: user 7.49 s, sys: 1.88 s, total: 9.37 s\n",
      "Wall time: 54min 41s\n"
     ]
    },
    {
     "name": "stderr",
     "output_type": "stream",
     "text": [
      "/modules/rhel8/conda/install/envs/production-10-2022/lib/python3.9/site-packages/urllib3/connectionpool.py:1045: InsecureRequestWarning: Unverified HTTPS request is being made to host 'cds.climate.copernicus.eu'. Adding certificate verification is strongly advised. See: https://urllib3.readthedocs.io/en/1.26.x/advanced-usage.html#ssl-warnings\n",
      "  warnings.warn(\n"
     ]
    }
   ],
   "source": [
    "%%time\n",
    "\n",
    "#for param in params:\n",
    "#    NORA3_ERA5.retrieve_era5_data(param, param)"
   ]
  },
  {
   "cell_type": "code",
   "execution_count": 6,
   "id": "4d06e15c",
   "metadata": {},
   "outputs": [],
   "source": [
    "stations = NORA3_ERA5.read_stations(\"stationlist.csv\")"
   ]
  },
  {
   "cell_type": "code",
   "execution_count": 5,
   "id": "37d708f2",
   "metadata": {},
   "outputs": [
    {
     "name": "stdout",
     "output_type": "stream",
     "text": [
      "{'stationid': ['ÅS', 'DOVRE-LANNEM', 'HEMSEDAL SKISENTER', 'FLESLAND', 'BERGEN - FLORIDA UIB', 'TRONDHEIM - GLØSHAUGEN', 'KARASJOK - MARKANNJARGA', 'HOPEN', 'JAN MAYEN', 'GAUSDAL - FOLLEBU', 'JUVVASSHØE', 'RÅDE - TOMB', 'RYGGE - HUGGENES', 'LIER', 'HØNEFOSS - HVERVEN', 'GRAN', 'RAMNES - KILE VESTRE', 'TJØLLING', 'GJERPEN - ÅRHUS', 'BØ', 'ØSAKER', 'LYNGDAL', 'ETNE II', 'MIDTSTOVA', 'NJØS', 'LINGE', 'LEBERGSFJELLET', 'TINGVOLL', 'SURNADAL - SYLTE', 'SKJETLEIN', 'RISSA III', 'RENA - ØRNHAUGEN', 'VALNESFJORD', 'LOSISTUA', 'SORTLAND - KLEIVA', 'ALVDAL', 'SNØHEIM', 'ISKORAS II', 'FÅVANG', 'SANDE - GALLEBERG', 'RAKKESTAD', 'ÅRNES', 'ULLENSVANG FORSØKSGARD', 'ROVERUD', 'NORDNESFJELLET', 'OSLO - BLINDERN', 'PASVIK - SVANVIK', 'KVITHAMAR', 'ØSTRE TOTEN - APELSVOLL', 'LØKEN I VOLBU', 'LANDVIK', 'SÆRHEIM', 'FURENESET', 'TROMSØ - HOLT', 'KISE PA HEDMARK', 'Finse (UiO)', 'Sandefjord (Jotun)', 'Tromsø (UiT)', 'Galgu (UiT)'], 'longitude': [10.7818, 9.2143, 8.4968, 5.2265, 5.332, 10.4072, 25.5023, 25.0133, -8.669, 10.2588, 8.369, 10.8145, 10.7543, 10.2598, 10.2662, 10.5592, 10.2397, 10.125, 9.5772, 9.0287, 11.0422, 7.0452, 5.9538, 7.2755, 6.8608, 7.2173, 6.8717, 8.1862, 8.6895, 10.2973, 9.9705, 11.4992, 15.1018, 17.7905, 15.2832, 10.6268, 9.352, 25.346, 10.1872, 10.215, 11.3905, 11.3933, 6.6538, 12.0913, 20.4153, 10.72, 30.041, 10.8795, 10.8695, 9.063, 8.5225, 5.6508, 5.0443, 18.9095, 10.8055, 7.5241, 10.2455, 18.9776, 20.7467], 'latitude': [59.6605, 62.0172, 60.8397, 60.2892, 60.3837, 63.4153, 69.4635, 76.5097, 70.9394, 61.22470093, 61.6775, 59.3188, 59.398, 59.7908, 60.1403, 60.3558, 59.3808, 59.0467, 59.2268, 59.4175, 59.3193, 58.134, 59.6625, 60.6563, 61.1792, 62.288, 62.5158, 62.9133, 62.9853, 63.3403, 63.5858, 61.3763, 67.2763, 68.1905, 68.648, 62.1093, 62.2958, 69.3003, 61.4582, 59.6193, 59.3882, 60.1268, 60.3185, 60.2537, 69.5576, 59.9423, 69.4552, 63.4882, 60.7002, 61.122, 58.34, 58.7605, 61.2928, 69.6538, 60.7733, 60.5932, 59.1061, 69.6818, 69.1469]}\n"
     ]
    }
   ],
   "source": [
    "print(stations)"
   ]
  },
  {
   "cell_type": "code",
   "execution_count": 4,
   "id": "42b3e4af",
   "metadata": {},
   "outputs": [],
   "source": [
    "def init_netcdf_output_file(out_da, station_ids, station_lons, station_lats):\n",
    "    out_da[\"stationid\"] = station_ids\n",
    "\n",
    "    out_da[\"longitude_station\"] = station_lons\n",
    "    out_da[\"latitude_station\"] = station_lats\n",
    "\n",
    "    # ensure CF compliance\n",
    "    out_da.attrs[\"Conventions\"] = \"CF-1.8\"\n",
    "    out_da.attrs[\"reference\"] = \"Hersbach et al. (2018): ERA5 hourly data on single levels from 1959 to present. Copernicus Climate Change Service (C3S) Climate Data Store (CDS). (Accessed on <18-01-2023 >), 10.24381/cds.adbb2d47\"\n",
    "    out_da.attrs[\"summary\"] = \"Timeseries extracted from ERA5 global reanalysis\"\n",
    "    out_da.attrs[\"project\"] = \"ERA5 and SUNPOINT\"\n",
    "    out_da.attrs[\"institute\"] = \"Norwegian Meteorological Institute\"\n",
    "    out_da.attrs[\"creator_url\"] = \"https://www.met.no\"\n",
    "    out_da.attrs[\"contact\"] = \"martinls@met.no\"\n",
    "\n",
    "    out_da[\"longitude\"].attrs[\"units\"] = \"degrees_east\"\n",
    "    out_da[\"longitude\"].attrs[\"long_name\"] = \"longitude\"\n",
    "    out_da[\"longitude\"].attrs[\"description\"] = \"longitude of closest data point to station\"\n",
    "\n",
    "    out_da[\"longitude_station\"].attrs[\"units\"] = \"degrees_east\"\n",
    "    out_da[\"longitude_station\"].attrs[\"long_name\"] = \"longitude_station\"\n",
    "\n",
    "    out_da[\"latitude\"].attrs[\"units\"] = \"degrees_north\"\n",
    "    out_da[\"latitude\"].attrs[\"long_name\"] = \"latitude\"\n",
    "    out_da[\"latitude\"].attrs[\"description\"] = \"latitude of closest data point to station\"\n",
    "\n",
    "    out_da[\"latitude_station\"].attrs[\"units\"] = \"degrees_north\"\n",
    "    out_da[\"latitude_station\"].attrs[\"long_name\"] = \"latitude_station\""
   ]
  },
  {
   "cell_type": "code",
   "execution_count": 7,
   "id": "c18bf6cc",
   "metadata": {},
   "outputs": [
    {
     "name": "stdout",
     "output_type": "stream",
     "text": [
      "Writing timeseries for leaf_area_index_high_vegetation\n",
      "CPU times: user 8.3 s, sys: 5min 10s, total: 5min 18s\n",
      "Wall time: 9min 12s\n"
     ]
    }
   ],
   "source": [
    "%%time\n",
    "\n",
    "data_dir = \"/lustre/storeB/users/martinls/src/MachineOcean-WP12/scripts/NORA3_ERA5/\"\n",
    "\n",
    "station_ids = stations[\"stationid\"]\n",
    "station_lons = stations[\"longitude\"]\n",
    "station_lats = stations[\"latitude\"]\n",
    "\n",
    "for (param, nc_param) in zip(params, nc_params):\n",
    "    break # do not execute\n",
    "    filename = data_dir + str(param) + \".nc\"\n",
    "    print(\"Writing timeseries for {}\".format(param))\n",
    "    era5 = xr.open_dataset(filename)\n",
    "    out_da = xr.Dataset()\n",
    "\n",
    "    era5_da = era5[nc_param].sel(longitude=xr.DataArray(station_lons, dims=\"station\"), latitude=xr.DataArray(station_lats, dims=\"station\"), method=\"nearest\")\n",
    "    era5_da.attrs[\"coordinates\"] = \"longitude latitude\"\n",
    "    out_da[param] = era5_da\n",
    "    \n",
    "    init_netcdf_output_file(out_da, station_ids, station_lons, station_lats)\n",
    "    # We are not getting these variables from an existing nc-file, and therefore need to \n",
    "    # ensure that the correct dimension (station) is used\n",
    "    out_da[\"stationid\"] = out_da[\"stationid\"].swap_dims({\"stationid\": \"station\"})\n",
    "    #out_da[\"longitude\"] = out_da[\"longitude\"].expand_dims(dim=\"station\")\n",
    "    out_da[\"longitude_station\"] = out_da[\"longitude_station\"].swap_dims({\"longitude_station\": \"station\"})\n",
    "    #out_da[\"latitude\"] = out_da[\"latitude\"].expand_dims(dim=\"station\")\n",
    "    out_da[\"latitude_station\"] = out_da[\"latitude_station\"].swap_dims({\"latitude_station\": \"station\"})\n",
    "    out_da.to_netcdf(str(param) + \"_ts.nc\", \n",
    "                                format=\"NETCDF4\", engine=\"netcdf4\", unlimited_dims=\"time\", mode=\"w\",\n",
    "                                encoding={param: {\"dtype\": \"float32\", \"zlib\": False, \"_FillValue\": 1.0e37}})"
   ]
  },
  {
   "cell_type": "code",
   "execution_count": 12,
   "id": "52930f30",
   "metadata": {},
   "outputs": [
    {
     "name": "stderr",
     "output_type": "stream",
     "text": [
      "/modules/rhel8/conda/install/envs/production-10-2022/lib/python3.9/site-packages/xarray/conventions.py:205: SerializationWarning: variable stationid has data in the form of a dask array with dtype=object, which means it is being loaded into memory to determine a data type that can be safely stored on disk. To avoid this, coerce this variable to a fixed-size dtype with astype() before saving it.\n",
      "  warnings.warn(\n"
     ]
    }
   ],
   "source": [
    "import xarray as xr\n",
    "\n",
    "nc_files = [param + \"_ts.nc\" for param in params]\n",
    "\n",
    "all_timeseries = xr.open_mfdataset(nc_files, parallel=True, combine=\"nested\",\n",
    "                  data_vars='minimal', coords='minimal', compat='override')\n",
    "\n",
    "all_timeseries.to_netcdf(\"ERA5_ts.nc\", format=\"NETCDF4\", engine=\"netcdf4\", unlimited_dims=\"time\", mode=\"w\")"
   ]
  },
  {
   "cell_type": "code",
   "execution_count": null,
   "id": "5cb9459a",
   "metadata": {},
   "outputs": [],
   "source": [
    "import xarray as xr\n",
    "\n",
    "nc_files = [param + \".nc\" for param in params]\n",
    "\n",
    "all_timeseries = xr.open_mfdataset(nc_files, parallel=True, combine=\"nested\",\n",
    "                  data_vars='minimal', coords='minimal', compat='override')\n",
    "\n",
    "all_timeseries.to_netcdf(\"ERA5_grid.nc\", format=\"NETCDF4\", engine=\"netcdf4\", unlimited_dims=\"time\", mode=\"w\")"
   ]
  }
 ],
 "metadata": {
  "kernelspec": {
   "display_name": "conda-env-production-10-2022-py",
   "language": "python",
   "name": "conda-env-production-10-2022-py"
  },
  "language_info": {
   "codemirror_mode": {
    "name": "ipython",
    "version": 3
   },
   "file_extension": ".py",
   "mimetype": "text/x-python",
   "name": "python",
   "nbconvert_exporter": "python",
   "pygments_lexer": "ipython3",
   "version": "3.9.13"
  }
 },
 "nbformat": 4,
 "nbformat_minor": 5
}
